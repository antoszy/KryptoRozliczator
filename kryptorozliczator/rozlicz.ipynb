{
 "cells": [
  {
   "cell_type": "markdown",
   "metadata": {},
   "source": [
    "# Rozliczanie podatków od kryptowalut w Polsce"
   ]
  },
  {
   "cell_type": "markdown",
   "metadata": {},
   "source": [
    "## Konfiguracja\n",
    "\n",
    "Konfigurację zacznij od wprowadzenia swoich kluczy API do giełd w pliku .env.\n",
    "Plik konfiguracyjny stworzysz na bazie pliku .env.example.\n",
    "Podaj też ścieżkę pliku csv, który zawiera listę transferów kryptowalutowych (obecnie obsługujemy format eksportu z portfela coinomi).\n",
    "Program zakłada że wszystkie transfery wychodzące w pliku csv to zakupy.\n",
    "W przyszłości dodana zostana funkcja oznaczania czy dany transfer był zakupem.\n",
    "Należy także dodać funkcjonalność importu trasakcji z kary ledger cl card."
   ]
  },
  {
   "cell_type": "code",
   "execution_count": 12,
   "metadata": {},
   "outputs": [],
   "source": [
    "ROK = 2024\n",
    "FIAT_CURRENCY_SYMBOLS = {'PLN', 'USD', 'EUR', 'CHF', 'GBP'}\n",
    "nierozliczone_koszty_z_roku_2023 = 58857.12\n",
    "# W portfelu coinomi są transfery zakupowe.\n",
    "coinomi_transfers_csv_path = f\"~/kryptorozliczator/{ROK}/input/transakcje_coinomi_do_27.04.2025.csv\"\n",
    "exchanges = [\"zonda\", \"bitfinex\"]"
   ]
  },
  {
   "cell_type": "markdown",
   "metadata": {},
   "source": [
    "## Importy"
   ]
  },
  {
   "cell_type": "code",
   "execution_count": 13,
   "metadata": {},
   "outputs": [],
   "source": [
    "from kryptorozliczator.exchange_interfaces.exchange_interface import ExchangeInterface\n",
    "from kryptorozliczator.wallet_interfaces.transfers import TransfersInterface\n",
    "from kryptorozliczator.rates.crypto_rates import get_crypto_exchange_rate\n",
    "from kryptorozliczator.rates.nbp_rates import get_nbp_exchange_rate\n",
    "\n",
    "import pandas as pd\n",
    "import requests\n",
    "from datetime import datetime, timedelta\n",
    "import math\n",
    "from pathlib import Path\n",
    "\n",
    "interfaces = [ExchangeInterface(e) for e in exchanges]\n",
    "wallet_interface = TransfersInterface()\n",
    "wallets = [\"coinomi_spending\"]\n",
    "output_dir = Path.home() / \"kryptorozliczator\" / str(ROK) / \"output\"\n",
    "intermediate_output_dir = output_dir / \"intermediate\"\n",
    "output_dir.mkdir(parents=True, exist_ok=True)\n",
    "intermediate_output_dir.mkdir(parents=True, exist_ok=True)"
   ]
  },
  {
   "cell_type": "markdown",
   "metadata": {},
   "source": [
    "## Przydatne funkcje"
   ]
  },
  {
   "cell_type": "code",
   "execution_count": 14,
   "metadata": {},
   "outputs": [],
   "source": [
    "def filter_pln_pair(symbol):\n",
    "    for symbol_part in symbol.split('/'):\n",
    "        if symbol_part == 'PLN':\n",
    "            return True\n",
    "    return False\n",
    "\n",
    "def filter_fiat_pair(symbol):\n",
    "    for symbol_part in symbol.split('/'):\n",
    "        if symbol_part in FIAT_CURRENCY_SYMBOLS:\n",
    "            return True\n",
    "    return False\n",
    "\n",
    "def filter_currency_pair(symbol, currency_symbol):\n",
    "    for symbol_part in symbol.split('/'):\n",
    "        if symbol_part == currency_symbol:\n",
    "            return True\n",
    "    return False\n"
   ]
  },
  {
   "cell_type": "markdown",
   "metadata": {},
   "source": [
    "## Pobranie historii transferów z portfeli"
   ]
  },
  {
   "cell_type": "code",
   "execution_count": null,
   "metadata": {},
   "outputs": [],
   "source": [
    "for wallet in wallets:\n",
    "    # print(f\"Pobieranie transakcji z portfela {wallet}\")\n",
    "    # transfers = wallet_interface.get_wallet_transfers(wallet, ROK)\n",
    "    # print(transfers)\n",
    "    print(\"This feateure is still WIP\")\n",
    "    # transfers_df = pd.DataFrame(transfers)\n",
    "    # transfers_df[\"wallet\"] = interface.wallet_name\n",
    "    # all_transfers_df = pd.concat([all_transfers_df, transfers_df])\n",
    "\n"
   ]
  },
  {
   "cell_type": "markdown",
   "metadata": {},
   "source": [
    "## Pobranie historii transferów z CSV"
   ]
  },
  {
   "cell_type": "code",
   "execution_count": null,
   "metadata": {},
   "outputs": [],
   "source": [
    "all_transfers_df = pd.DataFrame()\n",
    "\n",
    "# Import transactions from CSV\n",
    "coinomi_transfers_df = pd.read_csv(coinomi_transfers_csv_path)\n",
    "coinomi_transfers_df[\"wallet\"] = \"coinomi_spending\"\n",
    "all_transfers_df = pd.concat([all_transfers_df, coinomi_transfers_df])\n",
    "\n",
    "# Filter by date\n",
    "all_transfers_df = all_transfers_df[(all_transfers_df['Time(ISO8601-UTC)'] >= f\"{ROK}-01-01\") & \n",
    "                                  (all_transfers_df['Time(ISO8601-UTC)'] < f\"{ROK+1}-01-01\")]\n",
    "# Filter by negative value\n",
    "outgoing_transfers_df = all_transfers_df[all_transfers_df['Value'] < 0]\n",
    "\n",
    "display(outgoing_transfers_df)"
   ]
  },
  {
   "cell_type": "markdown",
   "metadata": {},
   "source": [
    "## Obliczenie podatku z wydanych kryptowalut"
   ]
  },
  {
   "cell_type": "code",
   "execution_count": null,
   "metadata": {},
   "outputs": [],
   "source": [
    "# Add column with PLN value of cryptocurrency PLN on the transaction day\n",
    "outgoing_transfers_df['Rate [PLN]'] = 0.0\n",
    "outgoing_transfers_df['PLN Value'] = 0.0\n",
    "for idx, row in outgoing_transfers_df.iterrows():\n",
    "    date = pd.to_datetime(row['Time(ISO8601-UTC)']).date()\n",
    "    asset = row['Symbol']\n",
    "    price = get_crypto_exchange_rate(asset, 'PLN', str(date))\n",
    "    # Convert Value to float if it's not already\n",
    "    value = float(math.fabs(float(row['Value'])))\n",
    "    # Update the dataframe directly using loc to avoid the sequence multiplication error\n",
    "    outgoing_transfers_df.loc[idx, 'Rate [PLN]'] = price\n",
    "    value_pln = value * price\n",
    "    outgoing_transfers_df.loc[idx, 'PLN Value'] = value_pln\n",
    "    \n",
    "display(outgoing_transfers_df)\n",
    "\n",
    "# Save outgoing_transfers_df to csv\n",
    "outgoing_transfers_df.to_csv(intermediate_output_dir / 'outgoing_transfers.csv', index=False)\n"
   ]
  },
  {
   "cell_type": "markdown",
   "metadata": {},
   "source": [
    "## Pobranie historii konwersji walut z giełd"
   ]
  },
  {
   "cell_type": "code",
   "execution_count": null,
   "metadata": {},
   "outputs": [],
   "source": [
    "all_transactions_df = pd.DataFrame()\n",
    "\n",
    "for interface in interfaces:\n",
    "    print(f\"Pobieranie transakcji z {interface.exchange_name}\")\n",
    "    transactions = interface.get_transaction_history(ROK)\n",
    "    transactions_df = pd.DataFrame(transactions)\n",
    "    transactions_df[\"exchange\"] = interface.exchange_name\n",
    "    all_transactions_df = pd.concat([all_transactions_df, transactions_df])\n"
   ]
  },
  {
   "cell_type": "markdown",
   "metadata": {},
   "source": [
    "## Wyświetlenie historii konwersji walut z giełd"
   ]
  },
  {
   "cell_type": "code",
   "execution_count": null,
   "metadata": {},
   "outputs": [],
   "source": [
    "## Display transactions as a table\n",
    "display(all_transactions_df)\n",
    "\n",
    "## Display transaction in print\n",
    "# print(all_transactions_df)\n"
   ]
  },
  {
   "cell_type": "markdown",
   "metadata": {},
   "source": [
    "## Zapis tabel wynikowych CSV"
   ]
  },
  {
   "cell_type": "code",
   "execution_count": null,
   "metadata": {},
   "outputs": [],
   "source": [
    "import os\n",
    "\n",
    "# Create a CSV file for the transactions\n",
    "csv_file_path = intermediate_output_dir / 'conversions.csv'\n",
    "all_transactions_df.to_csv(csv_file_path, index=False)\n"
   ]
  },
  {
   "cell_type": "markdown",
   "metadata": {},
   "source": [
    "## Obliczenie przychodów i kosztów"
   ]
  },
  {
   "cell_type": "code",
   "execution_count": null,
   "metadata": {},
   "outputs": [],
   "source": [
    "def calculate_transaction_value_and_fee(row: pd.Series):\n",
    "    currency_symbol, base_currency_symbol = row['symbol'].split('/')\n",
    "    transaction_date = datetime.fromtimestamp(row['timestamp']/1000)\n",
    "\n",
    "    # mean NBP rate should be taken from 1 day before transaction date\n",
    "    nbp_rate_date = transaction_date - timedelta(days=1)\n",
    "\n",
    "    transaction_value_fiat = row['cost']\n",
    "    if base_currency_symbol == 'PLN':\n",
    "        transaction_value_pln = transaction_value_fiat\n",
    "    elif base_currency_symbol in FIAT_CURRENCY_SYMBOLS:\n",
    "        exchange_rate = get_nbp_exchange_rate(base_currency_symbol, nbp_rate_date)\n",
    "        transaction_value_pln = transaction_value_fiat * exchange_rate\n",
    "    else:\n",
    "        raise ValueError(f\"Unsupported currency symbol: {row['symbol']}\")\n",
    "\n",
    "    fee = row['fee']\n",
    "    fee_currency = fee['currency']\n",
    "    fee_cost = float(fee['cost'])\n",
    "    if fee_currency == 'PLN':\n",
    "        fee_value_pln = fee_cost\n",
    "        fee_value_fiat = fee_cost\n",
    "    elif fee_currency in FIAT_CURRENCY_SYMBOLS:\n",
    "        exchange_rate = get_nbp_exchange_rate(fee_currency, nbp_rate_date)\n",
    "        fee_value_pln = fee_cost * exchange_rate\n",
    "        fee_value_fiat = fee_cost\n",
    "    else: # fee in crypto, convert to fiat, then to PLN\n",
    "        crypto_to_fiat_exchange_rate = row['price']\n",
    "        fee_value_fiat = fee_cost * crypto_to_fiat_exchange_rate\n",
    "        if base_currency_symbol == 'PLN':\n",
    "            fee_value_pln = fee_value_fiat\n",
    "        elif base_currency_symbol in FIAT_CURRENCY_SYMBOLS:\n",
    "            exchange_rate = get_nbp_exchange_rate(base_currency_symbol, nbp_rate_date)\n",
    "            fee_value_pln = fee_value_fiat * exchange_rate\n",
    "        else:\n",
    "            raise ValueError(f\"Unsupported currency symbol: {row['symbol']}\")\n",
    "    return {'transaction_value_fiat': transaction_value_fiat,\n",
    "            'transaction_value_pln': transaction_value_pln,\n",
    "            'fee_value_fiat': fee_value_fiat,\n",
    "            'fee_value_pln': fee_value_pln}\n",
    "\n",
    "def calculate_transaction_totals_for_single_currency(df, currency_symbol):\n",
    "    # Choose only transactions in the pair to fiat currency, the rest don't affect tax\n",
    "    df = df[df['symbol'].apply(lambda x: filter_currency_pair(x, currency_symbol))]\n",
    "\n",
    "    # Grupowanie transakcji na kupno i sprzedaż\n",
    "    buys = df[df['side'] == 'buy']\n",
    "    sells = df[df['side'] == 'sell']\n",
    "\n",
    "    total_buy_cost_pln = 0\n",
    "    total_buy_cost_original_currency = 0\n",
    "    total_sell_revenue_pln = 0\n",
    "    total_sell_revenue_original_currency = 0\n",
    "    total_fee_fiat = 0\n",
    "    total_fee_pln = 0\n",
    "    for _, row in buys.iterrows():\n",
    "        transaction_value_and_fee = calculate_transaction_value_and_fee(row)\n",
    "        total_buy_cost_pln += transaction_value_and_fee['transaction_value_pln']\n",
    "        total_buy_cost_original_currency += transaction_value_and_fee['transaction_value_fiat']\n",
    "        total_fee_fiat += transaction_value_and_fee['fee_value_fiat']\n",
    "        total_fee_pln += transaction_value_and_fee['fee_value_pln']\n",
    "\n",
    "    for _, row in sells.iterrows():\n",
    "        transaction_value_and_fee = calculate_transaction_value_and_fee(row)\n",
    "        total_sell_revenue_pln += transaction_value_and_fee['transaction_value_pln']\n",
    "        total_sell_revenue_original_currency += transaction_value_and_fee['transaction_value_fiat']\n",
    "        total_fee_fiat += transaction_value_and_fee['fee_value_fiat']\n",
    "        total_fee_pln += transaction_value_and_fee['fee_value_pln']\n",
    "    \n",
    "    return {'total_buy_cost_pln': total_buy_cost_pln,\n",
    "            'total_buy_cost_original_currency': total_buy_cost_original_currency,\n",
    "            'total_sell_revenue_pln': total_sell_revenue_pln,\n",
    "            'total_sell_revenue_original_currency': total_sell_revenue_original_currency,\n",
    "            'total_fee_fiat': total_fee_fiat,\n",
    "            'total_fee_pln': total_fee_pln}\n",
    "\n",
    "total_buy_cost_pln = 0\n",
    "total_sell_revenue_pln = 0\n",
    "total_fee_pln = 0\n",
    "for currency_symbol in FIAT_CURRENCY_SYMBOLS:\n",
    "    totals = calculate_transaction_totals_for_single_currency(all_transactions_df, currency_symbol)\n",
    "    if totals['total_buy_cost_pln'] == 0 and totals['total_sell_revenue_pln'] == 0 and totals['total_fee_pln'] == 0:\n",
    "        continue\n",
    "    currency_summary_df = pd.DataFrame({\n",
    "        'Kategoria': [f'Koszt zakupu (PLN)', f'Przychód ze sprzedaży (PLN)', f'Opłaty (PLN)', f'Koszt w {currency_symbol}', f'Przychód w {currency_symbol}'],\n",
    "        'Wartość (PLN)': [\n",
    "            totals['total_buy_cost_pln'],\n",
    "            totals['total_sell_revenue_pln'],\n",
    "            totals['total_fee_pln'],\n",
    "            totals['total_buy_cost_original_currency'],\n",
    "            totals['total_sell_revenue_original_currency']\n",
    "        ]\n",
    "    })\n",
    "    print(f\"\\nPodsumowanie wymian na giełdzie dla waluty {currency_symbol}:\")\n",
    "    display(currency_summary_df)\n",
    "    currency_summary_df.to_csv(intermediate_output_dir / f'conversions_summary_{currency_symbol}.csv', index=False)\n",
    "\n",
    "    total_buy_cost_pln += totals['total_buy_cost_pln']\n",
    "    total_sell_revenue_pln += totals['total_sell_revenue_pln']\n",
    "    total_fee_pln += totals['total_fee_pln']\n",
    "\n",
    "print(f\"Podsumowanie wymian na giełdzie dla wszystkich walut:\")\n",
    "all_conversions_summary_df = pd.DataFrame({\n",
    "    'Kategoria': ['Koszt zakupu (PLN)', 'Przychód ze sprzedaży (PLN)', 'Opłaty (PLN)'],\n",
    "    'Wartość (PLN)': [total_buy_cost_pln, total_sell_revenue_pln, total_fee_pln]\n",
    "})\n",
    "display(all_conversions_summary_df)\n",
    "all_conversions_summary_df.to_csv(intermediate_output_dir / 'conversions_summary.csv', index=False)\n",
    "\n",
    "print(f\"\\nPodsumowanie zakupów dóbr i usług przy użyciu kryptowalut:\")\n",
    "goods_and_services_buy_summary_df = pd.DataFrame({\n",
    "    'Kategoria': ['Przychód ze sprzedaży (PLN)'],\n",
    "    'Wartość (PLN)': [\n",
    "        outgoing_transfers_df['PLN Value'].sum(),\n",
    "    ]\n",
    "})\n",
    "display(goods_and_services_buy_summary_df)\n",
    "goods_and_services_buy_summary_df.to_csv(intermediate_output_dir / 'goods_and_services_buy_summary.csv', index=False)\n",
    "total_sell_revenue_pln += outgoing_transfers_df['PLN Value'].sum()\n",
    "\n",
    "summary_df = pd.DataFrame({\n",
    "    'Category': ['Koszt zakupu', 'Przychód ze sprzedaży', 'Opłaty', 'Koszt całkowity', 'Zysk całkowity'],\n",
    "    'Value (PLN)': [\n",
    "        total_buy_cost_pln,\n",
    "        total_sell_revenue_pln, \n",
    "        total_fee_pln,\n",
    "        total_buy_cost_pln + total_fee_pln,\n",
    "        total_sell_revenue_pln - total_buy_cost_pln - total_fee_pln\n",
    "    ]\n",
    "})\n",
    "print(\"\\nPodsumowanie:\")\n",
    "display(summary_df)\n",
    "summary_df.to_csv(output_dir / 'TOTALS.csv', index=False)"
   ]
  },
  {
   "cell_type": "markdown",
   "metadata": {},
   "source": [
    "## Co wpisać do PIT38"
   ]
  },
  {
   "cell_type": "code",
   "execution_count": null,
   "metadata": {},
   "outputs": [],
   "source": [
    "\n",
    "PIT38 = pd.DataFrame({\n",
    "    'Kategoria': ['Przychód z kryptowalut w PLN (34)',\n",
    "                 'Koszty uzyskania przychodu poniesione w roku podatkowym (35)',\n",
    "                 'Koszty uzyskania przychodu poniesione w latach ubiegłych i niepotrącone w poprzednim roku podatkowym (36)',\n",
    "                 'Dochód (37)',\n",
    "                 'Koszty uzyskania przychodu, które nie zostały potrącone w roku podatkowym (38)'],\n",
    "    'Value (PLN)': [\n",
    "        total_sell_revenue_pln,\n",
    "        total_buy_cost_pln + total_fee_pln,\n",
    "        nierozliczone_koszty_z_roku_2023,\n",
    "        total_sell_revenue_pln - total_buy_cost_pln - total_fee_pln - nierozliczone_koszty_z_roku_2023,\n",
    "        max(0, total_buy_cost_pln + total_fee_pln + nierozliczone_koszty_z_roku_2023 - total_sell_revenue_pln)\n",
    "    ]\n",
    "})\n",
    "pd.set_option('display.max_colwidth', None)\n",
    "display(PIT38)\n",
    "PIT38.to_csv(output_dir / 'PIT38.csv', index=False)"
   ]
  }
 ],
 "metadata": {
  "kernelspec": {
   "display_name": "kryptorozliczator-4MpaJdnY-py3.12",
   "language": "python",
   "name": "python3"
  },
  "language_info": {
   "codemirror_mode": {
    "name": "ipython",
    "version": 3
   },
   "file_extension": ".py",
   "mimetype": "text/x-python",
   "name": "python",
   "nbconvert_exporter": "python",
   "pygments_lexer": "ipython3",
   "version": "3.12.10"
  }
 },
 "nbformat": 4,
 "nbformat_minor": 2
}
